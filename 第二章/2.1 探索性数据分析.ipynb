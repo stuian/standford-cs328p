{
 "cells": [
  {
   "cell_type": "markdown",
   "id": "1e9d1a3d",
   "metadata": {},
   "source": [
    "# 探索性数据分析"
   ]
  },
  {
   "cell_type": "code",
   "execution_count": null,
   "id": "c8c60a9d",
   "metadata": {},
   "outputs": [],
   "source": [
    "import numpy as np\n",
    "import pandas as pd\n",
    "import matplotlib.pyplot as plt\n",
    "import seaborn as sns\n",
    "from IPython import display\n",
    "display.set_matplotlib_formats('svg') # 提高像素"
   ]
  },
  {
   "cell_type": "code",
   "execution_count": null,
   "id": "1f3f3f34",
   "metadata": {},
   "outputs": [],
   "source": [
    "data = pd.read_csv('house_sales.zip')"
   ]
  },
  {
   "cell_type": "code",
   "execution_count": null,
   "id": "bbd3cdc9",
   "metadata": {},
   "outputs": [],
   "source": [
    "data.shape"
   ]
  },
  {
   "cell_type": "code",
   "execution_count": null,
   "id": "fc1d7a86",
   "metadata": {},
   "outputs": [],
   "source": [
    "data.head()"
   ]
  },
  {
   "cell_type": "code",
   "execution_count": null,
   "id": "e75ed3c3",
   "metadata": {},
   "outputs": [],
   "source": [
    "null_sum = data.isnull().sum()\n",
    "data.columns[null_sum < len(data) * 0.3]  # columns will keep"
   ]
  },
  {
   "cell_type": "code",
   "execution_count": null,
   "id": "6bb93e7a",
   "metadata": {},
   "outputs": [],
   "source": [
    "data.drop(columns=data.columns[null_sum > len(data) * 0.3], inplace=True)"
   ]
  },
  {
   "cell_type": "code",
   "execution_count": null,
   "id": "3c4380bb",
   "metadata": {},
   "outputs": [],
   "source": [
    "data.dtypes"
   ]
  },
  {
   "cell_type": "code",
   "execution_count": null,
   "id": "e0c55f0e",
   "metadata": {},
   "outputs": [],
   "source": [
    "currency = ['Sold Price', 'Listed Price', 'Tax assessed value', 'Annual tax amount']\n",
    "for c in currency:\n",
    "    data[c] = data[c].replace(\n",
    "        r'[$,-]', '', regex=True).replace( # 去掉$,-符号\n",
    "        r'^\\s*$', np.nan, regex=True).astype(float) # '^\\s*$'：空字符串"
   ]
  },
  {
   "cell_type": "code",
   "execution_count": null,
   "id": "62f3a538",
   "metadata": {},
   "outputs": [],
   "source": [
    "areas = ['Total interior livable area', 'Lot size']\n",
    "for c in areas:\n",
    "    acres = data[c].str.contains('Acres') == True\n",
    "    col = data[c].replace(r'\\b sqft\\b|\\b Acres\\b|\\b,\\b','', regex=True).astype(float)\n",
    "    col[acres] *= 43560\n",
    "    data[c] = col"
   ]
  },
  {
   "cell_type": "code",
   "execution_count": null,
   "id": "3d4e7434",
   "metadata": {},
   "outputs": [],
   "source": [
    "data.describe()"
   ]
  },
  {
   "cell_type": "markdown",
   "id": "bf4b7de2",
   "metadata": {},
   "source": [
    "> 一些不正常的数据"
   ]
  },
  {
   "cell_type": "code",
   "execution_count": null,
   "id": "91fc6fee",
   "metadata": {},
   "outputs": [],
   "source": [
    "abnormal = (data[areas[1]] < 10) | (data[areas[1]] > 1e4)\n",
    "data = data[~abnormal]\n",
    "sum(abnormal)"
   ]
  },
  {
   "cell_type": "code",
   "execution_count": null,
   "id": "4afba72f",
   "metadata": {},
   "outputs": [],
   "source": [
    "ax = sns.histplot(np.log10(data['Sold Price'])) # 价格差的奇怪，做log数据分布更均与\n",
    "ax.set_xlim([3, 8])\n",
    "ax.set_xticks(range(3, 9))\n",
    "ax.set_xticklabels(['%.0e'%a for a in 10**ax.get_xticks()])"
   ]
  },
  {
   "cell_type": "code",
   "execution_count": null,
   "id": "d9b0e4da",
   "metadata": {},
   "outputs": [],
   "source": [
    "data['Type'].value_counts()[0:20]"
   ]
  },
  {
   "cell_type": "markdown",
   "id": "00ed655c",
   "metadata": {},
   "source": [
    "密度分布图"
   ]
  },
  {
   "cell_type": "code",
   "execution_count": null,
   "id": "f68f4658",
   "metadata": {},
   "outputs": [],
   "source": [
    "types = data['Type'].isin(['SingleFamily', 'Condo', 'MultiFamily', 'Townhouse'])\n",
    "sns.displot(pd.DataFrame({'Sold Price':np.log10(data[types]['Sold Price']),\n",
    "                          'Type':data[types]['Type']}),\n",
    "            x='Sold Price', hue='Type', kind='kde')"
   ]
  },
  {
   "cell_type": "markdown",
   "id": "7b20c59a",
   "metadata": {},
   "source": [
    "数据箱型分布"
   ]
  },
  {
   "cell_type": "code",
   "execution_count": null,
   "id": "f890e3ff",
   "metadata": {},
   "outputs": [],
   "source": [
    "data['Price per living sqft'] = data['Sold Price'] / data['Total interior livable area']\n",
    "ax = sns.boxplot(x='Type', y='Price per living sqft', data=data[types], fliersize=0)\n",
    "ax.set_ylim([0, 2000])"
   ]
  },
  {
   "cell_type": "code",
   "execution_count": null,
   "id": "39f72b09",
   "metadata": {},
   "outputs": [],
   "source": [
    "d = data[data['Zip'].isin(data['Zip'].value_counts()[:20].keys())]\n",
    "ax = sns.boxplot(x='Zip', y='Price per living sqft', data=d, fliersize=0)\n",
    "ax.set_ylim([0, 2000])\n",
    "ax.set_xticklabels(ax.get_xticklabels(), rotation=90)"
   ]
  },
  {
   "cell_type": "markdown",
   "id": "382507ec",
   "metadata": {},
   "source": [
    "不同列的关系"
   ]
  },
  {
   "cell_type": "code",
   "execution_count": null,
   "id": "0bbf56a0",
   "metadata": {},
   "outputs": [],
   "source": [
    "_, ax = plt.subplots(figsize=(6,6))\n",
    "columns = ['Sold Price', 'Listed Price', 'Annual tax amount', 'Price per living sqft', 'Elementary School Score', 'High School Score']\n",
    "sns.heatmap(data[columns].corr(),annot=True,cmap='RdYlGn', ax=ax)"
   ]
  },
  {
   "cell_type": "code",
   "execution_count": null,
   "id": "e651c51c",
   "metadata": {},
   "outputs": [],
   "source": []
  }
 ],
 "metadata": {
  "kernelspec": {
   "display_name": "Python 3",
   "language": "python",
   "name": "python3"
  },
  "language_info": {
   "codemirror_mode": {
    "name": "ipython",
    "version": 3
   },
   "file_extension": ".py",
   "mimetype": "text/x-python",
   "name": "python",
   "nbconvert_exporter": "python",
   "pygments_lexer": "ipython3",
   "version": "3.8.8"
  },
  "toc": {
   "base_numbering": 1,
   "nav_menu": {},
   "number_sections": true,
   "sideBar": true,
   "skip_h1_title": false,
   "title_cell": "Table of Contents",
   "title_sidebar": "Contents",
   "toc_cell": false,
   "toc_position": {},
   "toc_section_display": true,
   "toc_window_display": true
  }
 },
 "nbformat": 4,
 "nbformat_minor": 5
}
