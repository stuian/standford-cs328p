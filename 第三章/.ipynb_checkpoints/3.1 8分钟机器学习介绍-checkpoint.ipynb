{
 "cells": [
  {
   "cell_type": "markdown",
   "id": "19d9bd41",
   "metadata": {},
   "source": [
    "# 8分钟机器学习介绍"
   ]
  },
  {
   "cell_type": "markdown",
   "id": "10bd6360",
   "metadata": {},
   "source": [
    "- 监督学习（eg：自监督学习，也有标签，但是标签来自数据本身，如word2vec，bert）\n",
    "- 半监督学习：有部分标注，但大量未标注的数据（eg：自训练）\n",
    "- 无监督学习：没有标注（eg：聚类，density estimation（分布估计，如gan））\n",
    "- 强化学习：有环境，与环境进行交互，从环境中获取一些观察点，发生一些行为，获得反馈，不断学习"
   ]
  },
  {
   "cell_type": "markdown",
   "id": "33d7c47a",
   "metadata": {},
   "source": [
    "## 监督模型"
   ]
  },
  {
   "cell_type": "markdown",
   "id": "f7d230c6",
   "metadata": {},
   "source": [
    "关键点\n",
    "- 模型\n",
    "- loss\n",
    "- objective\n",
    "- optimization"
   ]
  },
  {
   "cell_type": "markdown",
   "id": "681992e1",
   "metadata": {},
   "source": [
    "- 树模型\n",
    "- 线性模型\n",
    "- 核模型\n",
    "- 神经网络"
   ]
  }
 ],
 "metadata": {
  "kernelspec": {
   "display_name": "Python 3",
   "language": "python",
   "name": "python3"
  },
  "language_info": {
   "codemirror_mode": {
    "name": "ipython",
    "version": 3
   },
   "file_extension": ".py",
   "mimetype": "text/x-python",
   "name": "python",
   "nbconvert_exporter": "python",
   "pygments_lexer": "ipython3",
   "version": "3.8.8"
  },
  "toc": {
   "base_numbering": 1,
   "nav_menu": {},
   "number_sections": true,
   "sideBar": true,
   "skip_h1_title": false,
   "title_cell": "Table of Contents",
   "title_sidebar": "Contents",
   "toc_cell": false,
   "toc_position": {},
   "toc_section_display": true,
   "toc_window_display": false
  }
 },
 "nbformat": 4,
 "nbformat_minor": 5
}
