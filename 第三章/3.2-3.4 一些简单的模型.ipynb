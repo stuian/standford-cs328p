{
 "cells": [
  {
   "cell_type": "markdown",
   "id": "ccf0be51",
   "metadata": {},
   "source": [
    "# 最简单也最常用的决策树"
   ]
  },
  {
   "cell_type": "markdown",
   "id": "4781bcce",
   "metadata": {},
   "source": [
    "- 决策树\n",
    "- 随机森林\n",
    "- gbdt"
   ]
  },
  {
   "cell_type": "markdown",
   "id": "89d0eea1",
   "metadata": {},
   "source": [
    "# 最简单也同样最常用的线性模型"
   ]
  },
  {
   "cell_type": "markdown",
   "id": "30acfd6c",
   "metadata": {},
   "source": [
    "线性模型做多分类\n",
    "- softmax\n",
    "- 交叉熵"
   ]
  },
  {
   "cell_type": "markdown",
   "id": "9be3789c",
   "metadata": {},
   "source": [
    "y是向量，且只有一个位置为1的向量（即样本真实类别所处位置）。\n",
    "\n",
    "优化下列公式："
   ]
  },
  {
   "attachments": {
    "QQ%E6%88%AA%E5%9B%BE20211109105919.png": {
     "image/png": "[encoded data removed]"
    }
   },
   "cell_type": "markdown",
   "id": "bc029779",
   "metadata": {},
   "source": [
    "![QQ%E6%88%AA%E5%9B%BE20211109105919.png](attachment:QQ%E6%88%AA%E5%9B%BE20211109105919.png)"
   ]
  },
  {
   "attachments": {
    "image.png": {
     "image/png": "[encoded data removed]"
    }
   },
   "cell_type": "markdown",
   "id": "521cc9c8",
   "metadata": {},
   "source": [
    "![image.png](attachment:image.png)"
   ]
  },
  {
   "cell_type": "markdown",
   "id": "9b1f8af6",
   "metadata": {},
   "source": [
    "# 随机梯度下降"
   ]
  },
  {
   "cell_type": "markdown",
   "id": "08683810",
   "metadata": {},
   "source": [
    "除了决策树以外，几乎所有的问题都可以用该方法解决。"
   ]
  },
  {
   "cell_type": "markdown",
   "id": "df954319",
   "metadata": {},
   "source": [
    "## 代码实现线性回归"
   ]
  },
  {
   "cell_type": "code",
   "execution_count": null,
   "id": "86328efa",
   "metadata": {},
   "outputs": [],
   "source": [
    "def data_iter(batch_size,features,labels):\n",
    "    # features:nxp; labels:px1\n",
    "    num_examples = len(features)\n",
    "    indices = list(range(num_examples))\n",
    "    random.shuffle(indices) # 打乱样本序号\n",
    "    for i in range(0,num_examples,batch_size):\n",
    "        batch_indices = torch.tensor(indices[i:min(i+batch_size,num_examples)])\n",
    "        yield features[batch_indices],labels[batch_indices] # features和labels应该都是tensor\n",
    "    \n",
    "# 跟numpy有点像\n",
    "w = torch.normal(0,0.01,size=(p,1),requires_grad=True)\n",
    "b = torch.zeros(1,requires_grad=True)\n",
    "\n",
    "for epoch in range(num_epochs): # 整个数据全部扫描多少次\n",
    "    for X,y in data_iter(batch_size,features,labels): # 批量梯度下降\n",
    "        y_hat = X@w + b\n",
    "        loss = ((y_hat-y)**2/2).mean()\n",
    "        loss.backward() # 自动求导\n",
    "        for param in [w,b]:\n",
    "            param -= learning_rate * param.grad\n",
    "            param.grad_zero_() # 把导数清零，方便下次迭代"
   ]
  },
  {
   "cell_type": "markdown",
   "id": "20f77ac9",
   "metadata": {},
   "source": [
    "权重初始为0或者初始为一样的值有什么影响。"
   ]
  },
  {
   "cell_type": "code",
   "execution_count": 4,
   "id": "5d26a27c",
   "metadata": {},
   "outputs": [
    {
     "name": "stdout",
     "output_type": "stream",
     "text": [
      "0\n",
      "1\n",
      "2\n",
      "3\n",
      "4\n",
      "5\n",
      "6\n",
      "7\n",
      "8\n",
      "9\n",
      "0\n",
      "1\n",
      "2\n",
      "3\n",
      "4\n",
      "5\n",
      "6\n",
      "7\n",
      "8\n",
      "9\n"
     ]
    }
   ],
   "source": [
    "def iteration():\n",
    "    for i in range(10):\n",
    "        yield i\n",
    "for i in range(2): \n",
    "    for j in iteration():\n",
    "        print(j)"
   ]
  }
 ],
 "metadata": {
  "kernelspec": {
   "display_name": "Python 3",
   "language": "python",
   "name": "python3"
  },
  "language_info": {
   "codemirror_mode": {
    "name": "ipython",
    "version": 3
   },
   "file_extension": ".py",
   "mimetype": "text/x-python",
   "name": "python",
   "nbconvert_exporter": "python",
   "pygments_lexer": "ipython3",
   "version": "3.8.8"
  },
  "toc": {
   "base_numbering": 1,
   "nav_menu": {},
   "number_sections": true,
   "sideBar": true,
   "skip_h1_title": false,
   "title_cell": "Table of Contents",
   "title_sidebar": "Contents",
   "toc_cell": false,
   "toc_position": {},
   "toc_section_display": true,
   "toc_window_display": true
  }
 },
 "nbformat": 4,
 "nbformat_minor": 5
}
