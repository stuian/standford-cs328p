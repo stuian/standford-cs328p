{
 "cells": [
  {
   "cell_type": "markdown",
   "id": "ccf0be51",
   "metadata": {},
   "source": [
    "# 最简单也最常用的决策树"
   ]
  },
  {
   "cell_type": "markdown",
   "id": "4781bcce",
   "metadata": {},
   "source": [
    "- 决策树\n",
    "- 随机森林\n",
    "- gbdt"
   ]
  },
  {
   "cell_type": "markdown",
   "id": "89d0eea1",
   "metadata": {},
   "source": [
    "# 最简单也同样最常用的线性模型"
   ]
  },
  {
   "cell_type": "markdown",
   "id": "30acfd6c",
   "metadata": {},
   "source": [
    "线性模型做多分类\n",
    "- softmax\n",
    "- 交叉熵"
   ]
  },
  {
   "attachments": {
    "image.png": {
     "image/png": "[encoded data removed]"
    }
   },
   "cell_type": "markdown",
   "id": "521cc9c8",
   "metadata": {},
   "source": [
    "![image.png](attachment:image.png)"
   ]
  }
 ],
 "metadata": {
  "kernelspec": {
   "display_name": "Python 3",
   "language": "python",
   "name": "python3"
  },
  "language_info": {
   "codemirror_mode": {
    "name": "ipython",
    "version": 3
   },
   "file_extension": ".py",
   "mimetype": "text/x-python",
   "name": "python",
   "nbconvert_exporter": "python",
   "pygments_lexer": "ipython3",
   "version": "3.8.8"
  },
  "toc": {
   "base_numbering": 1,
   "nav_menu": {},
   "number_sections": true,
   "sideBar": true,
   "skip_h1_title": false,
   "title_cell": "Table of Contents",
   "title_sidebar": "Contents",
   "toc_cell": false,
   "toc_position": {},
   "toc_section_display": true,
   "toc_window_display": false
  }
 },
 "nbformat": 4,
 "nbformat_minor": 5
}
