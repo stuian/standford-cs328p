{
 "cells": [
  {
   "cell_type": "markdown",
   "id": "d9645a90",
   "metadata": {},
   "source": [
    "# 模型检验"
   ]
  },
  {
   "cell_type": "markdown",
   "id": "fbfaae21",
   "metadata": {},
   "source": [
    "## 模型度量 "
   ]
  },
  {
   "cell_type": "markdown",
   "id": "59900280",
   "metadata": {},
   "source": [
    "- 模型的目标函数\n",
    "- 度量的标准一般有很多"
   ]
  },
  {
   "cell_type": "markdown",
   "id": "3f1fe3ab",
   "metadata": {},
   "source": [
    "## 例子学习：展现广告"
   ]
  },
  {
   "cell_type": "markdown",
   "id": "b25c6f78",
   "metadata": {},
   "source": [
    "- 百度/今日头条主要以广告为营收\n",
    "\n",
    "搜索词/具体的网页 -> 取出相关的广告 -> 预测用户点击的概率（如果广告主按点击付费）-> 按点击率x每次点击价格排序进行广告展示"
   ]
  },
  {
   "cell_type": "markdown",
   "id": "b6e54a73",
   "metadata": {},
   "source": [
    "## 分类任务衡量"
   ]
  },
  {
   "cell_type": "markdown",
   "id": "0236305c",
   "metadata": {},
   "source": [
    "- 准确率：\n",
    "sum(y==y_hat)/y.size\n",
    "- 精确率：\n",
    "sum((y_hay==1)&(y==1))/sum(y_hat==1) # 会尽可能少的预测为1\n",
    "- 召回率\n",
    "sum((y_hay==1)&(y==1))/sum(y==1) \n",
    "- f1\n",
    "2pr/(p+r)"
   ]
  },
  {
   "cell_type": "markdown",
   "id": "e1df5ada",
   "metadata": {},
   "source": [
    "## AUC&ROC"
   ]
  },
  {
   "cell_type": "markdown",
   "id": "3352a625",
   "metadata": {},
   "source": [
    "对于二分类问题，是否能真的区分开来两个类。\n",
    "\n",
    "y_hat为预测为正类的概率，y_hat >= theta 为正类\n",
    "\n",
    "ROC曲线（x轴为假正率，y轴为真正率）\n",
    "\n",
    "AUC面积（0.5是分界线，最糟糕，小于0.5，则用1去减）"
   ]
  },
  {
   "cell_type": "markdown",
   "id": "7a1dcc96",
   "metadata": {},
   "source": [
    "## 展现广告的商业方法"
   ]
  },
  {
   "cell_type": "markdown",
   "id": "b3fe8e69",
   "metadata": {},
   "source": [
    "- 收入和用户体验\n",
    "    - latency:300ms-500ms内展示广告\n",
    "    - ASN:平均每页展现的广告\n",
    "    - CTR:用户真实点击率\n",
    "    - ACP：每次点击付费\n",
    " - 收入 = 流量（pageviews）X ASN X CTR X ACP\n",
    " - 平台公司关心收入和流量；用户关心ASN和CTR；广告主关心CTR和ACP"
   ]
  },
  {
   "cell_type": "markdown",
   "id": "18b1992f",
   "metadata": {},
   "source": [
    "> 光看AUC是没有用的，要上线看商业指标"
   ]
  }
 ],
 "metadata": {
  "kernelspec": {
   "display_name": "Python 3",
   "language": "python",
   "name": "python3"
  },
  "language_info": {
   "codemirror_mode": {
    "name": "ipython",
    "version": 3
   },
   "file_extension": ".py",
   "mimetype": "text/x-python",
   "name": "python",
   "nbconvert_exporter": "python",
   "pygments_lexer": "ipython3",
   "version": "3.8.8"
  },
  "toc": {
   "base_numbering": 1,
   "nav_menu": {},
   "number_sections": true,
   "sideBar": true,
   "skip_h1_title": false,
   "title_cell": "Table of Contents",
   "title_sidebar": "Contents",
   "toc_cell": false,
   "toc_position": {},
   "toc_section_display": true,
   "toc_window_display": false
  }
 },
 "nbformat": 4,
 "nbformat_minor": 5
}
