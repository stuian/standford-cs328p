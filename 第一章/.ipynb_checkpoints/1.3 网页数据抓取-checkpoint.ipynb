{
 "cells": [
  {
   "cell_type": "markdown",
   "id": "38eb6cd6",
   "metadata": {},
   "source": [
    "# 网页数据抓取"
   ]
  },
  {
   "cell_type": "markdown",
   "id": "2a5a8114",
   "metadata": {},
   "source": [
    "## 数据抓取\n",
    "- 数据爬取和抓取的区别\n",
    "    - 抓取：只对某一部分感兴趣，抓取成表格保存"
   ]
  },
  {
   "cell_type": "markdown",
   "id": "b577a51e",
   "metadata": {},
   "source": [
    "## 网页爬取工具\n",
    "\n",
    "- 模仿浏览器访问网站的过程\n",
    "- 云服务获取多IP"
   ]
  },
  {
   "cell_type": "markdown",
   "id": "8b5d940e",
   "metadata": {},
   "source": [
    "## 抓取房子信息\n",
    "\n",
    "- 成本（使用云）\n",
    "    - 3秒抓一个网页是比较适合的时间\n",
    "    - 存储\n",
    "    - 隔一段时间重启机器，重置IP"
   ]
  }
 ],
 "metadata": {
  "kernelspec": {
   "display_name": "Python 3",
   "language": "python",
   "name": "python3"
  },
  "language_info": {
   "codemirror_mode": {
    "name": "ipython",
    "version": 3
   },
   "file_extension": ".py",
   "mimetype": "text/x-python",
   "name": "python",
   "nbconvert_exporter": "python",
   "pygments_lexer": "ipython3",
   "version": "3.8.8"
  },
  "toc": {
   "base_numbering": 1,
   "nav_menu": {},
   "number_sections": true,
   "sideBar": true,
   "skip_h1_title": false,
   "title_cell": "Table of Contents",
   "title_sidebar": "Contents",
   "toc_cell": false,
   "toc_position": {},
   "toc_section_display": true,
   "toc_window_display": false
  }
 },
 "nbformat": 4,
 "nbformat_minor": 5
}
