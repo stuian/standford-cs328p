{
 "cells": [
  {
   "cell_type": "markdown",
   "id": "e7e9355d",
   "metadata": {},
   "source": [
    "# 数据获取"
   ]
  },
  {
   "cell_type": "markdown",
   "id": "95bd7549",
   "metadata": {},
   "source": [
    "## 现有的数据集\n",
    "- mnist\n",
    "- imageNet\n",
    "- audioset:来自youtube，声音片段分类\n",
    "- kinetics:来自youtube，视频片段分类\n",
    "- KITTI:由摄像头或者传感器记录的交通场景\n",
    "- amazon review:亚马逊用户评论\n",
    "- SQuAD:维基百科问题答案对\n",
    "- LibriSpeech:1000个小时的有声读物"
   ]
  },
  {
   "cell_type": "markdown",
   "id": "fbac49e0",
   "metadata": {},
   "source": [
    "## 找数据集的地方\n",
    "- paperswithcodes datasets\n",
    "- kaggle/conference/company datasets\n",
    "- google dataset search\n",
    "- tensorflow,huggingface\n",
    "- open raw data on AWS(云）\n",
    "\n",
    "数据集分类\n",
    "- 学术数据集（干净，难度适中）\n",
    "- 比赛数据集（跟实际应用比较贴近，主流方向）\n",
    "- 原始数据（噪音很多，数据量很大，需要很多的数据处理）"
   ]
  },
  {
   "cell_type": "markdown",
   "id": "7c7bfe39",
   "metadata": {},
   "source": [
    "## 数据整合\n",
    "\n",
    "表之间的join"
   ]
  },
  {
   "cell_type": "markdown",
   "id": "c9d39aeb",
   "metadata": {},
   "source": [
    "## 生成数据\n",
    "\n",
    "- 用gan\n",
    "- 数据增强"
   ]
  }
 ],
 "metadata": {
  "kernelspec": {
   "display_name": "Python 3",
   "language": "python",
   "name": "python3"
  },
  "language_info": {
   "codemirror_mode": {
    "name": "ipython",
    "version": 3
   },
   "file_extension": ".py",
   "mimetype": "text/x-python",
   "name": "python",
   "nbconvert_exporter": "python",
   "pygments_lexer": "ipython3",
   "version": "3.8.8"
  },
  "toc": {
   "base_numbering": 1,
   "nav_menu": {},
   "number_sections": true,
   "sideBar": true,
   "skip_h1_title": false,
   "title_cell": "Table of Contents",
   "title_sidebar": "Contents",
   "toc_cell": false,
   "toc_position": {},
   "toc_section_display": true,
   "toc_window_display": false
  }
 },
 "nbformat": 4,
 "nbformat_minor": 5
}
