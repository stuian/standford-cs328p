{
 "cells": [
  {
   "cell_type": "markdown",
   "id": "4d20f76e",
   "metadata": {},
   "source": [
    "# 课程介绍"
   ]
  },
  {
   "cell_type": "markdown",
   "id": "9124f604",
   "metadata": {},
   "source": [
    "> 关注工业界的机器学习"
   ]
  },
  {
   "cell_type": "markdown",
   "id": "11ed9e27",
   "metadata": {},
   "source": [
    "## 机器学习在各行各业的应用\n",
    "- 零售（销量预测）\n",
    "- 金融（信贷评估）\n",
    "- 医疗（心律，健康管理）\n",
    "- 汽车（自动驾驶）"
   ]
  },
  {
   "cell_type": "markdown",
   "id": "0c05ca69",
   "metadata": {},
   "source": [
    "## 机器学习的整个流程：\n",
    "- 转换成机器学习问题\n",
    "- 收集数据\n",
    "- 构建模型，调参\n",
    "- 线上评估，监测\n",
    "- 收集新的数据"
   ]
  },
  {
   "cell_type": "markdown",
   "id": "3cf38ddf",
   "metadata": {},
   "source": [
    "## 角色\n",
    "- 领域专家：对产品、对商业有很好的理解，知道在哪些地方部署机器学习\n",
    "- 数据科学家：有点像全栈，参与整个机器学习流程\n",
    "- 机器学习专家：针对产品定制机器学习模型（如广告算法）\n",
    "- 软件开发工程师：产品开发；定时训练，集群训练"
   ]
  },
  {
   "cell_type": "markdown",
   "id": "339709be",
   "metadata": {},
   "source": [
    "## 职业规划\n",
    "- 先是（软件开发工程师，领域专家）\n",
    "- 然后成为数据科学家\n",
    "- 最后变成机器学习专家"
   ]
  },
  {
   "cell_type": "markdown",
   "id": "fcd4223a",
   "metadata": {},
   "source": [
    "## 课程主题\n",
    "- 数据\n",
    "- 训练（模型验证/迁移学习）\n",
    "- 部署(对很大的模型进行蒸馏）\n",
    "- 监控"
   ]
  }
 ],
 "metadata": {
  "kernelspec": {
   "display_name": "Python 3",
   "language": "python",
   "name": "python3"
  },
  "language_info": {
   "codemirror_mode": {
    "name": "ipython",
    "version": 3
   },
   "file_extension": ".py",
   "mimetype": "text/x-python",
   "name": "python",
   "nbconvert_exporter": "python",
   "pygments_lexer": "ipython3",
   "version": "3.8.8"
  },
  "toc": {
   "base_numbering": 1,
   "nav_menu": {},
   "number_sections": true,
   "sideBar": true,
   "skip_h1_title": false,
   "title_cell": "Table of Contents",
   "title_sidebar": "Contents",
   "toc_cell": false,
   "toc_position": {},
   "toc_section_display": true,
   "toc_window_display": false
  }
 },
 "nbformat": 4,
 "nbformat_minor": 5
}
